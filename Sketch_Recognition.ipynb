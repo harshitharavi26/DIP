{
  "nbformat": 4,
  "nbformat_minor": 0,
  "metadata": {
    "colab": {
      "name": "Sketch Recognition.ipynb",
      "provenance": [],
      "include_colab_link": true
    },
    "kernelspec": {
      "name": "python3",
      "display_name": "Python 3"
    }
  },
  "cells": [
    {
      "cell_type": "markdown",
      "metadata": {
        "id": "view-in-github",
        "colab_type": "text"
      },
      "source": [
        "<a href=\"https://colab.research.google.com/github/harshitharavi26/DIP/blob/master/Sketch_Recognition.ipynb\" target=\"_parent\"><img src=\"https://colab.research.google.com/assets/colab-badge.svg\" alt=\"Open In Colab\"/></a>"
      ]
    },
    {
      "cell_type": "code",
      "metadata": {
        "id": "bnccEc1q9LY6",
        "colab_type": "code",
        "colab": {
          "base_uri": "https://localhost:8080/",
          "height": 35
        },
        "outputId": "6f93b2bd-f6e1-4b12-963e-41ba1f1212aa"
      },
      "source": [
        "from google.colab import drive\n",
        "drive.mount('/content/drive')"
      ],
      "execution_count": null,
      "outputs": [
        {
          "output_type": "stream",
          "text": [
            "Drive already mounted at /content/drive; to attempt to forcibly remount, call drive.mount(\"/content/drive\", force_remount=True).\n"
          ],
          "name": "stdout"
        }
      ]
    },
    {
      "cell_type": "code",
      "metadata": {
        "id": "Jwg-U18GhObb",
        "colab_type": "code",
        "colab": {}
      },
      "source": [
        "from keras.preprocessing.image import ImageDataGenerator\n",
        "from keras.models import Sequential,Model\n",
        "from keras.layers import Convolution2D, MaxPooling2D, AveragePooling2D\n",
        "from keras.layers import Activation, Dropout, Flatten, Dense\n",
        "from sklearn.datasets import load_files\n",
        "import numpy as np\n",
        "from sklearn.model_selection import  train_test_split\n",
        "from keras.preprocessing.image import array_to_img, img_to_array, load_img\n",
        "import cv2\n",
        "from keras import applications\n",
        "from tensorflow.keras.callbacks import ModelCheckpoint,ReduceLROnPlateau\n",
        "from tensorflow.keras.optimizers import Adam\n",
        "from tensorflow.keras.optimizers import RMSprop"
      ],
      "execution_count": null,
      "outputs": []
    },
    {
      "cell_type": "code",
      "metadata": {
        "id": "xMmgsz0JggQ0",
        "colab_type": "code",
        "colab": {}
      },
      "source": [
        "INIT_LR = 1e-3\n",
        "width=256\n",
        "height=256\n",
        "depth=3"
      ],
      "execution_count": null,
      "outputs": []
    },
    {
      "cell_type": "code",
      "metadata": {
        "id": "1QfjZLSHggUE",
        "colab_type": "code",
        "colab": {
          "base_uri": "https://localhost:8080/",
          "height": 1000
        },
        "outputId": "4c86b5fb-665f-440f-da8c-970cabcda689"
      },
      "source": [
        "# upload the dataset to your drive and give its path\n",
        "import glob\n",
        "img=glob.glob((\"/content/drive/My Drive/PNG/*\"))\n",
        "for i in img:\n",
        "    print(i)\n",
        "# this will read the dataset and display all the folder names"
      ],
      "execution_count": null,
      "outputs": [
        {
          "output_type": "stream",
          "text": [
            "/content/drive/My Drive/PNG/wineglass\n",
            "/content/drive/My Drive/PNG/wine-bottle\n",
            "/content/drive/My Drive/PNG/wheel\n",
            "/content/drive/My Drive/PNG/wrist-watch\n",
            "/content/drive/My Drive/PNG/windmill\n",
            "/content/drive/My Drive/PNG/walkie talkie\n",
            "/content/drive/My Drive/PNG/wheelbarrow\n",
            "/content/drive/My Drive/PNG/zebra\n",
            "/content/drive/My Drive/PNG/vase\n",
            "/content/drive/My Drive/PNG/violin\n",
            "/content/drive/My Drive/PNG/truck\n",
            "/content/drive/My Drive/PNG/trumpet\n",
            "/content/drive/My Drive/PNG/train\n",
            "/content/drive/My Drive/PNG/trousers\n",
            "/content/drive/My Drive/PNG/tree\n",
            "/content/drive/My Drive/PNG/traffic light\n",
            "/content/drive/My Drive/PNG/tv\n",
            "/content/drive/My Drive/PNG/umbrella\n",
            "/content/drive/My Drive/PNG/van\n",
            "/content/drive/My Drive/PNG/trombone\n",
            "/content/drive/My Drive/PNG/tiger\n",
            "/content/drive/My Drive/PNG/toothbrush\n",
            "/content/drive/My Drive/PNG/tent\n",
            "/content/drive/My Drive/PNG/toilet\n",
            "/content/drive/My Drive/PNG/tomato\n",
            "/content/drive/My Drive/PNG/tire\n",
            "/content/drive/My Drive/PNG/tennis-racket\n",
            "/content/drive/My Drive/PNG/telephone\n",
            "/content/drive/My Drive/PNG/tooth\n",
            "/content/drive/My Drive/PNG/tractor\n",
            "/content/drive/My Drive/PNG/teddy-bear\n",
            "/content/drive/My Drive/PNG/teapot\n",
            "/content/drive/My Drive/PNG/syringe\n",
            "/content/drive/My Drive/PNG/tablelamp\n",
            "/content/drive/My Drive/PNG/t-shirt\n",
            "/content/drive/My Drive/PNG/suv\n",
            "/content/drive/My Drive/PNG/swan\n",
            "/content/drive/My Drive/PNG/teacup\n",
            "/content/drive/My Drive/PNG/table\n",
            "/content/drive/My Drive/PNG/sword\n",
            "/content/drive/My Drive/PNG/sun\n",
            "/content/drive/My Drive/PNG/streetlight\n",
            "/content/drive/My Drive/PNG/squirrel\n",
            "/content/drive/My Drive/PNG/sponge bob\n",
            "/content/drive/My Drive/PNG/submarine\n",
            "/content/drive/My Drive/PNG/stapler\n",
            "/content/drive/My Drive/PNG/spoon\n",
            "/content/drive/My Drive/PNG/strawberry\n",
            "/content/drive/My Drive/PNG/standing bird\n",
            "/content/drive/My Drive/PNG/suitcase\n",
            "/content/drive/My Drive/PNG/snail\n",
            "/content/drive/My Drive/PNG/socks\n",
            "/content/drive/My Drive/PNG/snowboard\n",
            "/content/drive/My Drive/PNG/speed-boat\n",
            "/content/drive/My Drive/PNG/snowman\n",
            "/content/drive/My Drive/PNG/snake\n",
            "/content/drive/My Drive/PNG/skull\n",
            "/content/drive/My Drive/PNG/space shuttle\n",
            "/content/drive/My Drive/PNG/spider\n",
            "/content/drive/My Drive/PNG/skyscraper\n",
            "/content/drive/My Drive/PNG/scorpion\n",
            "/content/drive/My Drive/PNG/shovel\n",
            "/content/drive/My Drive/PNG/sea turtle\n",
            "/content/drive/My Drive/PNG/shark\n",
            "/content/drive/My Drive/PNG/ship\n",
            "/content/drive/My Drive/PNG/sheep\n",
            "/content/drive/My Drive/PNG/shoe\n",
            "/content/drive/My Drive/PNG/screwdriver\n",
            "/content/drive/My Drive/PNG/seagull\n",
            "/content/drive/My Drive/PNG/skateboard\n",
            "/content/drive/My Drive/PNG/rooster\n",
            "/content/drive/My Drive/PNG/rollerblades\n",
            "/content/drive/My Drive/PNG/scissors\n",
            "/content/drive/My Drive/PNG/revolver\n",
            "/content/drive/My Drive/PNG/santa claus\n",
            "/content/drive/My Drive/PNG/saxophone\n",
            "/content/drive/My Drive/PNG/satellite\n",
            "/content/drive/My Drive/PNG/sailboat\n",
            "/content/drive/My Drive/PNG/satellite dish\n",
            "/content/drive/My Drive/PNG/rifle\n",
            "/content/drive/My Drive/PNG/present\n",
            "/content/drive/My Drive/PNG/potted plant\n",
            "/content/drive/My Drive/PNG/race car\n",
            "/content/drive/My Drive/PNG/pumpkin\n",
            "/content/drive/My Drive/PNG/purse\n",
            "/content/drive/My Drive/PNG/rabbit\n",
            "/content/drive/My Drive/PNG/rainbow\n",
            "/content/drive/My Drive/PNG/radio\n",
            "/content/drive/My Drive/PNG/power outlet\n",
            "/content/drive/My Drive/PNG/pretzel\n",
            "/content/drive/My Drive/PNG/pig\n",
            "/content/drive/My Drive/PNG/pineapple\n",
            "/content/drive/My Drive/PNG/pigeon\n",
            "/content/drive/My Drive/PNG/piano\n",
            "/content/drive/My Drive/PNG/pickup truck\n",
            "/content/drive/My Drive/PNG/pipe (for smoking)\n",
            "/content/drive/My Drive/PNG/penguin\n",
            "/content/drive/My Drive/PNG/person sitting\n",
            "/content/drive/My Drive/PNG/person walking\n",
            "/content/drive/My Drive/PNG/pizza\n",
            "/content/drive/My Drive/PNG/parachute\n",
            "/content/drive/My Drive/PNG/parking meter\n",
            "/content/drive/My Drive/PNG/pear\n",
            "/content/drive/My Drive/PNG/panda\n",
            "/content/drive/My Drive/PNG/parrot\n",
            "/content/drive/My Drive/PNG/palm tree\n",
            "/content/drive/My Drive/PNG/paper clip\n",
            "/content/drive/My Drive/PNG/octopus\n",
            "/content/drive/My Drive/PNG/pen\n",
            "/content/drive/My Drive/PNG/owl\n",
            "/content/drive/My Drive/PNG/nose\n",
            "/content/drive/My Drive/PNG/mouth\n",
            "/content/drive/My Drive/PNG/moon\n",
            "/content/drive/My Drive/PNG/motorbike\n",
            "/content/drive/My Drive/PNG/mushroom\n",
            "/content/drive/My Drive/PNG/microscope\n",
            "/content/drive/My Drive/PNG/monkey\n",
            "/content/drive/My Drive/PNG/mug\n",
            "/content/drive/My Drive/PNG/mosquito\n",
            "/content/drive/My Drive/PNG/mouse (animal)\n",
            "/content/drive/My Drive/PNG/mermaid\n",
            "/content/drive/My Drive/PNG/mailbox\n",
            "/content/drive/My Drive/PNG/microphone\n",
            "/content/drive/My Drive/PNG/megaphone\n",
            "/content/drive/My Drive/PNG/airplane\n",
            "/content/drive/My Drive/PNG/alarm clock\n",
            "/content/drive/My Drive/PNG/angel\n",
            "/content/drive/My Drive/PNG/apple\n",
            "/content/drive/My Drive/PNG/ant\n",
            "/content/drive/My Drive/PNG/axe\n",
            "/content/drive/My Drive/PNG/ashtray\n",
            "/content/drive/My Drive/PNG/armchair\n",
            "/content/drive/My Drive/PNG/arm\n",
            "/content/drive/My Drive/PNG/carrot\n",
            "/content/drive/My Drive/PNG/castle\n",
            "/content/drive/My Drive/PNG/cat\n",
            "/content/drive/My Drive/PNG/cell phone\n",
            "/content/drive/My Drive/PNG/chair\n",
            "/content/drive/My Drive/PNG/chandelier\n",
            "/content/drive/My Drive/PNG/church\n",
            "/content/drive/My Drive/PNG/cigarette\n",
            "/content/drive/My Drive/PNG/cloud\n",
            "/content/drive/My Drive/PNG/comb\n",
            "/content/drive/My Drive/PNG/computer monitor\n",
            "/content/drive/My Drive/PNG/computer-mouse\n",
            "/content/drive/My Drive/PNG/couch\n",
            "/content/drive/My Drive/PNG/cow\n",
            "/content/drive/My Drive/PNG/crab\n",
            "/content/drive/My Drive/PNG/crane (machine)\n",
            "/content/drive/My Drive/PNG/crocodile\n",
            "/content/drive/My Drive/PNG/crown\n",
            "/content/drive/My Drive/PNG/cup\n",
            "/content/drive/My Drive/PNG/diamond\n",
            "/content/drive/My Drive/PNG/dog\n",
            "/content/drive/My Drive/PNG/dolphin\n",
            "/content/drive/My Drive/PNG/donut\n",
            "/content/drive/My Drive/PNG/door\n",
            "/content/drive/My Drive/PNG/door handle\n",
            "/content/drive/My Drive/PNG/dragon\n",
            "/content/drive/My Drive/PNG/duck\n",
            "/content/drive/My Drive/PNG/ear\n",
            "/content/drive/My Drive/PNG/elephant\n",
            "/content/drive/My Drive/PNG/envelope\n",
            "/content/drive/My Drive/PNG/eye\n",
            "/content/drive/My Drive/PNG/eyeglasses\n",
            "/content/drive/My Drive/PNG/face\n",
            "/content/drive/My Drive/PNG/fan\n",
            "/content/drive/My Drive/PNG/feather\n",
            "/content/drive/My Drive/PNG/fire hydrant\n",
            "/content/drive/My Drive/PNG/fish\n",
            "/content/drive/My Drive/PNG/flashlight\n",
            "/content/drive/My Drive/PNG/floor lamp\n",
            "/content/drive/My Drive/PNG/flower with stem\n",
            "/content/drive/My Drive/PNG/flying bird\n",
            "/content/drive/My Drive/PNG/flying saucer\n",
            "/content/drive/My Drive/PNG/foot\n",
            "/content/drive/My Drive/PNG/fork\n",
            "/content/drive/My Drive/PNG/frog\n",
            "/content/drive/My Drive/PNG/frying-pan\n",
            "/content/drive/My Drive/PNG/giraffe\n",
            "/content/drive/My Drive/PNG/grapes\n",
            "/content/drive/My Drive/PNG/grenade\n",
            "/content/drive/My Drive/PNG/guitar\n",
            "/content/drive/My Drive/PNG/hamburger\n",
            "/content/drive/My Drive/PNG/hammer\n",
            "/content/drive/My Drive/PNG/hand\n",
            "/content/drive/My Drive/PNG/harp\n",
            "/content/drive/My Drive/PNG/hat\n",
            "/content/drive/My Drive/PNG/head\n",
            "/content/drive/My Drive/PNG/head-phones\n",
            "/content/drive/My Drive/PNG/hedgehog\n",
            "/content/drive/My Drive/PNG/helicopter\n",
            "/content/drive/My Drive/PNG/helmet\n",
            "/content/drive/My Drive/PNG/horse\n",
            "/content/drive/My Drive/PNG/hot air balloon\n",
            "/content/drive/My Drive/PNG/hot-dog\n",
            "/content/drive/My Drive/PNG/hourglass\n",
            "/content/drive/My Drive/PNG/house\n",
            "/content/drive/My Drive/PNG/human-skeleton\n",
            "/content/drive/My Drive/PNG/ice-cream-cone\n",
            "/content/drive/My Drive/PNG/ipod\n",
            "/content/drive/My Drive/PNG/kangaroo\n",
            "/content/drive/My Drive/PNG/key\n",
            "/content/drive/My Drive/PNG/keyboard\n",
            "/content/drive/My Drive/PNG/knife\n",
            "/content/drive/My Drive/PNG/ladder\n",
            "/content/drive/My Drive/PNG/laptop\n",
            "/content/drive/My Drive/PNG/leaf\n",
            "/content/drive/My Drive/PNG/lightbulb\n",
            "/content/drive/My Drive/PNG/lighter\n",
            "/content/drive/My Drive/PNG/lion\n",
            "/content/drive/My Drive/PNG/lobster\n",
            "/content/drive/My Drive/PNG/loudspeaker\n",
            "/content/drive/My Drive/PNG/backpack\n",
            "/content/drive/My Drive/PNG/banana\n",
            "/content/drive/My Drive/PNG/barn\n",
            "/content/drive/My Drive/PNG/baseball bat\n",
            "/content/drive/My Drive/PNG/basket\n",
            "/content/drive/My Drive/PNG/bathtub\n",
            "/content/drive/My Drive/PNG/bear (animal)\n",
            "/content/drive/My Drive/PNG/bed\n",
            "/content/drive/My Drive/PNG/bee\n",
            "/content/drive/My Drive/PNG/beer-mug\n",
            "/content/drive/My Drive/PNG/bell\n",
            "/content/drive/My Drive/PNG/bench\n",
            "/content/drive/My Drive/PNG/bicycle\n",
            "/content/drive/My Drive/PNG/binoculars\n",
            "/content/drive/My Drive/PNG/blimp\n",
            "/content/drive/My Drive/PNG/book\n",
            "/content/drive/My Drive/PNG/bookshelf\n",
            "/content/drive/My Drive/PNG/boomerang\n",
            "/content/drive/My Drive/PNG/bottle opener\n",
            "/content/drive/My Drive/PNG/bowl\n",
            "/content/drive/My Drive/PNG/brain\n",
            "/content/drive/My Drive/PNG/bread\n",
            "/content/drive/My Drive/PNG/bridge\n",
            "/content/drive/My Drive/PNG/bulldozer\n",
            "/content/drive/My Drive/PNG/bus\n",
            "/content/drive/My Drive/PNG/bush\n",
            "/content/drive/My Drive/PNG/butterfly\n",
            "/content/drive/My Drive/PNG/cabinet\n",
            "/content/drive/My Drive/PNG/cactus\n",
            "/content/drive/My Drive/PNG/cake\n",
            "/content/drive/My Drive/PNG/calculator\n",
            "/content/drive/My Drive/PNG/camel\n",
            "/content/drive/My Drive/PNG/camera\n",
            "/content/drive/My Drive/PNG/candle\n",
            "/content/drive/My Drive/PNG/cannon\n",
            "/content/drive/My Drive/PNG/canoe\n",
            "/content/drive/My Drive/PNG/car (sedan)\n"
          ],
          "name": "stdout"
        }
      ]
    },
    {
      "cell_type": "code",
      "metadata": {
        "id": "DzC56q_1ggXP",
        "colab_type": "code",
        "colab": {
          "base_uri": "https://localhost:8080/",
          "height": 908
        },
        "outputId": "ecbab988-e5e6-4fb9-dd6f-d5717175a2e5"
      },
      "source": [
        "# dir will have the path\n",
        "dir = '/content/drive/My Drive/PNG'\n",
        "\n",
        "def load_dataset(path):\n",
        "    data = load_files(path)\n",
        "    files = np.array(data['filenames'])\n",
        "    targets = np.array(data['target'])\n",
        "    target_labels = np.array(data['target_names'])\n",
        "    return files,targets,target_labels\n",
        "    \n",
        "x, y,target_labels = load_dataset(dir)\n",
        "print('Loading complete!')\n",
        "print('X contains: ')\n",
        "print(x)\n",
        "print('Y contains: ')\n",
        "print(y)\n",
        "print('target_labels Contains: ')\n",
        "print(target_labels)"
      ],
      "execution_count": null,
      "outputs": [
        {
          "output_type": "stream",
          "text": [
            "Loading complete!\n",
            "X contains: \n",
            "['/content/drive/My Drive/PNG/octopus/11217.png'\n",
            " '/content/drive/My Drive/PNG/door/5524.png'\n",
            " '/content/drive/My Drive/PNG/sponge bob/16008.png' ...\n",
            " '/content/drive/My Drive/PNG/lion/9844.png'\n",
            " '/content/drive/My Drive/PNG/panda/11478.png'\n",
            " '/content/drive/My Drive/PNG/bush/2733.png']\n",
            "Y contains: \n",
            "[140  69 200 ... 123 143  34]\n",
            "target_labels Contains: \n",
            "['airplane' 'alarm clock' 'angel' 'ant' 'apple' 'arm' 'armchair' 'ashtray'\n",
            " 'axe' 'backpack' 'banana' 'barn' 'baseball bat' 'basket' 'bathtub'\n",
            " 'bear (animal)' 'bed' 'bee' 'beer-mug' 'bell' 'bench' 'bicycle'\n",
            " 'binoculars' 'blimp' 'book' 'bookshelf' 'boomerang' 'bottle opener'\n",
            " 'bowl' 'brain' 'bread' 'bridge' 'bulldozer' 'bus' 'bush' 'butterfly'\n",
            " 'cabinet' 'cactus' 'cake' 'calculator' 'camel' 'camera' 'candle' 'cannon'\n",
            " 'canoe' 'car (sedan)' 'carrot' 'castle' 'cat' 'cell phone' 'chair'\n",
            " 'chandelier' 'church' 'cigarette' 'cloud' 'comb' 'computer monitor'\n",
            " 'computer-mouse' 'couch' 'cow' 'crab' 'crane (machine)' 'crocodile'\n",
            " 'crown' 'cup' 'diamond' 'dog' 'dolphin' 'donut' 'door' 'door handle'\n",
            " 'dragon' 'duck' 'ear' 'elephant' 'envelope' 'eye' 'eyeglasses' 'face'\n",
            " 'fan' 'feather' 'fire hydrant' 'fish' 'flashlight' 'floor lamp'\n",
            " 'flower with stem' 'flying bird' 'flying saucer' 'foot' 'fork' 'frog'\n",
            " 'frying-pan' 'giraffe' 'grapes' 'grenade' 'guitar' 'hamburger' 'hammer'\n",
            " 'hand' 'harp' 'hat' 'head' 'head-phones' 'hedgehog' 'helicopter' 'helmet'\n",
            " 'horse' 'hot air balloon' 'hot-dog' 'hourglass' 'house' 'human-skeleton'\n",
            " 'ice-cream-cone' 'ipod' 'kangaroo' 'key' 'keyboard' 'knife' 'ladder'\n",
            " 'laptop' 'leaf' 'lightbulb' 'lighter' 'lion' 'lobster' 'loudspeaker'\n",
            " 'mailbox' 'megaphone' 'mermaid' 'microphone' 'microscope' 'monkey' 'moon'\n",
            " 'mosquito' 'motorbike' 'mouse (animal)' 'mouth' 'mug' 'mushroom' 'nose'\n",
            " 'octopus' 'owl' 'palm tree' 'panda' 'paper clip' 'parachute'\n",
            " 'parking meter' 'parrot' 'pear' 'pen' 'penguin' 'person sitting'\n",
            " 'person walking' 'piano' 'pickup truck' 'pig' 'pigeon' 'pineapple'\n",
            " 'pipe (for smoking)' 'pizza' 'potted plant' 'power outlet' 'present'\n",
            " 'pretzel' 'pumpkin' 'purse' 'rabbit' 'race car' 'radio' 'rainbow'\n",
            " 'revolver' 'rifle' 'rollerblades' 'rooster' 'sailboat' 'santa claus'\n",
            " 'satellite' 'satellite dish' 'saxophone' 'scissors' 'scorpion'\n",
            " 'screwdriver' 'sea turtle' 'seagull' 'shark' 'sheep' 'ship' 'shoe'\n",
            " 'shovel' 'skateboard' 'skull' 'skyscraper' 'snail' 'snake' 'snowboard'\n",
            " 'snowman' 'socks' 'space shuttle' 'speed-boat' 'spider' 'sponge bob'\n",
            " 'spoon' 'squirrel' 'standing bird' 'stapler' 'strawberry' 'streetlight'\n",
            " 'submarine' 'suitcase' 'sun' 'suv' 'swan' 'sword' 'syringe' 't-shirt'\n",
            " 'table' 'tablelamp' 'teacup' 'teapot' 'teddy-bear' 'telephone'\n",
            " 'tennis-racket' 'tent' 'tiger' 'tire' 'toilet' 'tomato' 'tooth'\n",
            " 'toothbrush' 'tractor' 'traffic light' 'train' 'tree' 'trombone'\n",
            " 'trousers' 'truck' 'trumpet' 'tv' 'umbrella' 'van' 'vase' 'violin'\n",
            " 'walkie talkie' 'wheel' 'wheelbarrow' 'windmill' 'wine-bottle'\n",
            " 'wineglass' 'wrist-watch' 'zebra']\n"
          ],
          "name": "stdout"
        }
      ]
    },
    {
      "cell_type": "code",
      "metadata": {
        "id": "v3SFYREbo8te",
        "colab_type": "code",
        "colab": {
          "base_uri": "https://localhost:8080/",
          "height": 35
        },
        "outputId": "de40dba1-692c-4d95-f695-3127bffb03ff"
      },
      "source": [
        "no_of_classes = len(np.unique(y))\n",
        "print(no_of_classes)\n",
        "# this is used in that last layers of the model"
      ],
      "execution_count": null,
      "outputs": [
        {
          "output_type": "stream",
          "text": [
            "243\n"
          ],
          "name": "stdout"
        }
      ]
    },
    {
      "cell_type": "code",
      "metadata": {
        "id": "zXIUWbDFo85x",
        "colab_type": "code",
        "colab": {
          "base_uri": "https://localhost:8080/",
          "height": 145
        },
        "outputId": "91085954-3750-4800-fb34-57bceef8fb91"
      },
      "source": [
        "#dividing the entire dataset into training data and validation data\n",
        "X_train,x_val,Y_train,y_val = train_test_split(x,y,test_size=0.18,random_state=42)\n",
        "#dividing the training dataset into training and testing\n",
        "X_train,x_test,Y_train,y_test = train_test_split(X_train,Y_train,test_size=0.22,random_state=42)\n",
        "X_train.shape,Y_train.shape,x_val.shape,y_val.shape,x_test.shape,y_test.shape\n",
        "# sum should result in total\n",
        "print(len(X_train))\n",
        "print(len(x_val))\n",
        "print(len(x_test))\n",
        "print(X_train[0])\n",
        "print(Y_train[0])\n",
        "print(x_test[0])\n",
        "print(y_test[0])"
      ],
      "execution_count": null,
      "outputs": [
        {
          "output_type": "stream",
          "text": [
            "12358\n",
            "3478\n",
            "3486\n",
            "/content/drive/My Drive/PNG/book/1991.png\n",
            "24\n",
            "/content/drive/My Drive/PNG/key/9265.png\n",
            "115\n"
          ],
          "name": "stdout"
        }
      ]
    },
    {
      "cell_type": "code",
      "metadata": {
        "id": "hEMNR5ME97WM",
        "colab_type": "code",
        "colab": {
          "base_uri": "https://localhost:8080/",
          "height": 244
        },
        "outputId": "aa6e57c6-874f-49b7-8e0b-138b3b0e79b7"
      },
      "source": [
        "default_image_size=tuple((width,height))\n",
        "def convert_image_to_array(files):\n",
        "    images_as_array=[]\n",
        "    for file in files:\n",
        "         # Convert to Numpy Array\n",
        "        image=cv2.imread(file)\n",
        "        if image is not None :\n",
        "          image=cv2.resize(image, default_image_size) \n",
        "          images_as_array.append(img_to_array(image))\n",
        "    return images_as_array\n",
        "\n",
        "X_train = np.array(convert_image_to_array(X_train))\n",
        "print('Training set shape : ',X_train.shape)\n",
        "\n",
        "x_val = np.array(convert_image_to_array(x_val))\n",
        "print('Validation set shape : ',x_val.shape)\n",
        "\n",
        "x_test = np.array(convert_image_to_array(x_test))\n",
        "print('Test set shape : ',x_test.shape)\n",
        "\n",
        "print('1st training image shape ',X_train[0].shape)"
      ],
      "execution_count": null,
      "outputs": [
        {
          "output_type": "error",
          "ename": "NameError",
          "evalue": "ignored",
          "traceback": [
            "\u001b[0;31m---------------------------------------------------------------------------\u001b[0m",
            "\u001b[0;31mNameError\u001b[0m                                 Traceback (most recent call last)",
            "\u001b[0;32m<ipython-input-1-19b16b9d3dd8>\u001b[0m in \u001b[0;36m<module>\u001b[0;34m()\u001b[0m\n\u001b[0;32m----> 1\u001b[0;31m \u001b[0mdefault_image_size\u001b[0m\u001b[0;34m=\u001b[0m\u001b[0mtuple\u001b[0m\u001b[0;34m(\u001b[0m\u001b[0;34m(\u001b[0m\u001b[0mwidth\u001b[0m\u001b[0;34m,\u001b[0m\u001b[0mheight\u001b[0m\u001b[0;34m)\u001b[0m\u001b[0;34m)\u001b[0m\u001b[0;34m\u001b[0m\u001b[0;34m\u001b[0m\u001b[0m\n\u001b[0m\u001b[1;32m      2\u001b[0m \u001b[0;32mdef\u001b[0m \u001b[0mconvert_image_to_array\u001b[0m\u001b[0;34m(\u001b[0m\u001b[0mfiles\u001b[0m\u001b[0;34m)\u001b[0m\u001b[0;34m:\u001b[0m\u001b[0;34m\u001b[0m\u001b[0;34m\u001b[0m\u001b[0m\n\u001b[1;32m      3\u001b[0m     \u001b[0mimages_as_array\u001b[0m\u001b[0;34m=\u001b[0m\u001b[0;34m[\u001b[0m\u001b[0;34m]\u001b[0m\u001b[0;34m\u001b[0m\u001b[0;34m\u001b[0m\u001b[0m\n\u001b[1;32m      4\u001b[0m     \u001b[0;32mfor\u001b[0m \u001b[0mfile\u001b[0m \u001b[0;32min\u001b[0m \u001b[0mfiles\u001b[0m\u001b[0;34m:\u001b[0m\u001b[0;34m\u001b[0m\u001b[0;34m\u001b[0m\u001b[0m\n\u001b[1;32m      5\u001b[0m          \u001b[0;31m# Convert to Numpy Array\u001b[0m\u001b[0;34m\u001b[0m\u001b[0;34m\u001b[0m\u001b[0;34m\u001b[0m\u001b[0m\n",
            "\u001b[0;31mNameError\u001b[0m: name 'width' is not defined"
          ]
        }
      ]
    },
    {
      "cell_type": "code",
      "metadata": {
        "id": "0pnf8et6-IXG",
        "colab_type": "code",
        "colab": {}
      },
      "source": [
        "print('1st training image as array',X_train[0]) "
      ],
      "execution_count": null,
      "outputs": []
    },
    {
      "cell_type": "code",
      "metadata": {
        "id": "YpSG0wjh97Jw",
        "colab_type": "code",
        "colab": {}
      },
      "source": [
        "X_train = X_train.astype('float32')/255\n",
        "x_val = x_val.astype('float32')/255\n",
        "x_test = x_test.astype('float32')/255\n",
        "X_train[0]"
      ],
      "execution_count": null,
      "outputs": []
    },
    {
      "cell_type": "code",
      "metadata": {
        "id": "wP_cpjhuggZt",
        "colab_type": "code",
        "colab": {
          "base_uri": "https://localhost:8080/",
          "height": 54
        },
        "outputId": "97fda34d-b39e-49bb-f5b0-ef6c97ba6c61"
      },
      "source": [
        "model = applications.VGG19(weights = \"imagenet\", include_top=False, input_shape = (width, height, depth))\n",
        "#loading the VGG19 model"
      ],
      "execution_count": null,
      "outputs": [
        {
          "output_type": "stream",
          "text": [
            "Downloading data from https://storage.googleapis.com/tensorflow/keras-applications/vgg19/vgg19_weights_tf_dim_ordering_tf_kernels_notop.h5\n",
            "80142336/80134624 [==============================] - 0s 0us/step\n"
          ],
          "name": "stdout"
        }
      ]
    },
    {
      "cell_type": "code",
      "metadata": {
        "id": "zXnWpv2yggcq",
        "colab_type": "code",
        "colab": {}
      },
      "source": [
        "for layer in model.layers[:5]:\n",
        "    layer.trainable = False"
      ],
      "execution_count": null,
      "outputs": []
    },
    {
      "cell_type": "code",
      "metadata": {
        "id": "k3_B8le7ggfi",
        "colab_type": "code",
        "colab": {
          "base_uri": "https://localhost:8080/",
          "height": 1000
        },
        "outputId": "a3570160-51b1-4ba8-9e05-a91681597740"
      },
      "source": [
        "x = model.output\n",
        "x = Flatten()(x)\n",
        "x = Dense(1024, activation=\"relu\")(x)\n",
        "x = Dropout(0.5)(x)\n",
        "x = Dense(1024, activation=\"relu\")(x)\n",
        "predictions = Dense(no_of_classes, activation=\"softmax\")(x)\n",
        "\n",
        "# creating the final model by updating last few layers of the VGG19 model\n",
        "model_final = Model(model.input, predictions)\n",
        "model_final.summary()"
      ],
      "execution_count": null,
      "outputs": [
        {
          "output_type": "stream",
          "text": [
            "Model: \"functional_1\"\n",
            "_________________________________________________________________\n",
            "Layer (type)                 Output Shape              Param #   \n",
            "=================================================================\n",
            "input_1 (InputLayer)         [(None, 256, 256, 3)]     0         \n",
            "_________________________________________________________________\n",
            "block1_conv1 (Conv2D)        (None, 256, 256, 64)      1792      \n",
            "_________________________________________________________________\n",
            "block1_conv2 (Conv2D)        (None, 256, 256, 64)      36928     \n",
            "_________________________________________________________________\n",
            "block1_pool (MaxPooling2D)   (None, 128, 128, 64)      0         \n",
            "_________________________________________________________________\n",
            "block2_conv1 (Conv2D)        (None, 128, 128, 128)     73856     \n",
            "_________________________________________________________________\n",
            "block2_conv2 (Conv2D)        (None, 128, 128, 128)     147584    \n",
            "_________________________________________________________________\n",
            "block2_pool (MaxPooling2D)   (None, 64, 64, 128)       0         \n",
            "_________________________________________________________________\n",
            "block3_conv1 (Conv2D)        (None, 64, 64, 256)       295168    \n",
            "_________________________________________________________________\n",
            "block3_conv2 (Conv2D)        (None, 64, 64, 256)       590080    \n",
            "_________________________________________________________________\n",
            "block3_conv3 (Conv2D)        (None, 64, 64, 256)       590080    \n",
            "_________________________________________________________________\n",
            "block3_conv4 (Conv2D)        (None, 64, 64, 256)       590080    \n",
            "_________________________________________________________________\n",
            "block3_pool (MaxPooling2D)   (None, 32, 32, 256)       0         \n",
            "_________________________________________________________________\n",
            "block4_conv1 (Conv2D)        (None, 32, 32, 512)       1180160   \n",
            "_________________________________________________________________\n",
            "block4_conv2 (Conv2D)        (None, 32, 32, 512)       2359808   \n",
            "_________________________________________________________________\n",
            "block4_conv3 (Conv2D)        (None, 32, 32, 512)       2359808   \n",
            "_________________________________________________________________\n",
            "block4_conv4 (Conv2D)        (None, 32, 32, 512)       2359808   \n",
            "_________________________________________________________________\n",
            "block4_pool (MaxPooling2D)   (None, 16, 16, 512)       0         \n",
            "_________________________________________________________________\n",
            "block5_conv1 (Conv2D)        (None, 16, 16, 512)       2359808   \n",
            "_________________________________________________________________\n",
            "block5_conv2 (Conv2D)        (None, 16, 16, 512)       2359808   \n",
            "_________________________________________________________________\n",
            "block5_conv3 (Conv2D)        (None, 16, 16, 512)       2359808   \n",
            "_________________________________________________________________\n",
            "block5_conv4 (Conv2D)        (None, 16, 16, 512)       2359808   \n",
            "_________________________________________________________________\n",
            "block5_pool (MaxPooling2D)   (None, 8, 8, 512)         0         \n",
            "_________________________________________________________________\n",
            "flatten_2 (Flatten)          (None, 32768)             0         \n",
            "_________________________________________________________________\n",
            "dense_6 (Dense)              (None, 1024)              33555456  \n",
            "_________________________________________________________________\n",
            "dropout_2 (Dropout)          (None, 1024)              0         \n",
            "_________________________________________________________________\n",
            "dense_7 (Dense)              (None, 1024)              1049600   \n",
            "_________________________________________________________________\n",
            "dense_8 (Dense)              (None, 3)                 3075      \n",
            "=================================================================\n",
            "Total params: 54,632,515\n",
            "Trainable params: 54,519,939\n",
            "Non-trainable params: 112,576\n",
            "_________________________________________________________________\n"
          ],
          "name": "stdout"
        }
      ]
    },
    {
      "cell_type": "code",
      "metadata": {
        "id": "b9J0NjEGggi3",
        "colab_type": "code",
        "colab": {}
      },
      "source": [
        "aug = ImageDataGenerator(\n",
        "    rotation_range=30, width_shift_range=0.15,\n",
        "    height_shift_range=0.15, shear_range=0.15, \n",
        "    zoom_range=0.2,horizontal_flip=True, \n",
        "    fill_mode=\"nearest\")\n",
        "aug1=ImageDataGenerator(\n",
        "    rotation_range=30, width_shift_range=0.15,\n",
        "    height_shift_range=0.15, shear_range=0.15,\n",
        "    zoom_range=0.2,horizontal_flip=True, \n",
        "    fill_mode=\"nearest\")"
      ],
      "execution_count": null,
      "outputs": []
    },
    {
      "cell_type": "code",
      "metadata": {
        "id": "M-v4vCIu_lq7",
        "colab_type": "code",
        "colab": {}
      },
      "source": [
        "model.compile(loss='categorical_crossentropy',\n",
        "              optimizer=Adam(lr=0.001),\n",
        "              metrics=['accuracy'])\n",
        "print('Compiled!')"
      ],
      "execution_count": null,
      "outputs": []
    },
    {
      "cell_type": "code",
      "metadata": {
        "id": "dW0dkate-eI4",
        "colab_type": "code",
        "colab": {}
      },
      "source": [
        "#batch_size = 32\n",
        "checkpoint = ModelCheckpoint(filepath = 'cnn1.hdf5',monitor='val_accuracy' ,verbose = 1, save_best_only = True)\n",
        "reduce_lr=ReduceLROnPlateau(monitor='val_loss',factor=0.1,patience=2,min_lr=0.00001,mode='auto')\n",
        "#checkpointer = ModelCheckpoint('cnn.h5', verbose=1, monitor='val_loss', save_best_only=True, mode='auto')\n",
        "history = model.fit_generator(\n",
        "        aug.flow(X_train,Y_train,batch_size=32),\n",
        "        #steps_per_epoch=80,\n",
        "        epochs=50,\n",
        "        validation_data=aug1.flow(x_val, y_val,batch_size=32),\n",
        "        #validation_steps=50,\n",
        "        callbacks=[checkpoint,reduce_lr],\n",
        "        verbose=2, \n",
        "        shuffle=True\n",
        "        )"
      ],
      "execution_count": null,
      "outputs": []
    },
    {
      "cell_type": "code",
      "metadata": {
        "id": "8AtYrNP0-eMs",
        "colab_type": "code",
        "colab": {}
      },
      "source": [
        "import matplotlib.pyplot as plt\n",
        "acc = history.history['accuracy']\n",
        "val_acc = history.history['val_accuracy']\n",
        "loss = history.history['loss']\n",
        "val_loss = history.history['val_loss']\n",
        "\n",
        "epochs = range(len(acc))\n",
        "\n",
        "plt.plot(epochs, acc)\n",
        "plt.plot(epochs, val_acc)\n",
        "plt.legend(['acc', 'val_acc'], loc='lower right')  \n",
        "plt.title('Training and validation accuracy')\n",
        "\n",
        "\n",
        "plt.figure()\n",
        "plt.plot(epochs, loss)\n",
        "plt.plot(epochs, val_loss)\n",
        "plt.legend(['loss', 'val_loss'], loc='upper right')  \n",
        "plt.title('Training and validation loss')\n",
        "\n",
        "plt.show()"
      ],
      "execution_count": null,
      "outputs": []
    },
    {
      "cell_type": "code",
      "metadata": {
        "id": "x_aLzTYf-eSn",
        "colab_type": "code",
        "colab": {}
      },
      "source": [
        "model.load_weights('cnn1.hdf5')"
      ],
      "execution_count": null,
      "outputs": []
    },
    {
      "cell_type": "code",
      "metadata": {
        "id": "4WK1ZK7I-eQG",
        "colab_type": "code",
        "colab": {}
      },
      "source": [
        "# evaluate and print test accuracy\n",
        "score = model.evaluate(x_test, y_test,batch_size=32,verbose=0)\n",
        "print('\\n', 'Test Loss','Test accuracy:', score[0],score[1])\n",
        "#accuracy !!"
      ],
      "execution_count": null,
      "outputs": []
    }
  ]
}